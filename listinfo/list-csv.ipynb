{
 "cells": [
  {
   "cell_type": "code",
   "execution_count": 2,
   "metadata": {},
   "outputs": [],
   "source": [
    "import pandas as pd"
   ]
  },
  {
   "cell_type": "code",
   "execution_count": 3,
   "metadata": {},
   "outputs": [],
   "source": [
    "fname = \"list_person_all_extended_utf8.csv\""
   ]
  },
  {
   "cell_type": "code",
   "execution_count": 4,
   "metadata": {},
   "outputs": [
    {
     "name": "stderr",
     "output_type": "stream",
     "text": [
      "/opt/p3/lib/python3.7/site-packages/IPython/core/interactiveshell.py:3058: DtypeWarning: Columns (38,39) have mixed types. Specify dtype option on import or set low_memory=False.\n",
      "  interactivity=interactivity, compiler=compiler, result=result)\n"
     ]
    }
   ],
   "source": [
    "df = pd.read_csv(fname)"
   ]
  },
  {
   "cell_type": "code",
   "execution_count": 10,
   "metadata": {},
   "outputs": [
    {
     "data": {
      "text/plain": [
       "10131"
      ]
     },
     "execution_count": 10,
     "metadata": {},
     "output_type": "execute_result"
    }
   ],
   "source": [
    "tmp = df[\"文字遣い種別\"] == \"新字新仮名\"\n",
    "tmp.sum()"
   ]
  },
  {
   "cell_type": "code",
   "execution_count": 13,
   "metadata": {},
   "outputs": [
    {
     "name": "stdout",
     "output_type": "stream",
     "text": [
      "旧字旧仮名: 2098 files\n",
      "旧字新仮名: 30 files\n",
      "新字旧仮名: 4295 files\n",
      "新字新仮名: 10131 files\n"
     ]
    }
   ],
   "source": [
    "target = \"文字遣い種別\"\n",
    "vals = \"旧字旧仮名 旧字新仮名 新字旧仮名 新字新仮名\".split()\n",
    "for v in vals:\n",
    "    tmp = df[target] == v\n",
    "    print(\"%s: %d files\" % (v, tmp.sum()))\n"
   ]
  },
  {
   "cell_type": "code",
   "execution_count": 15,
   "metadata": {},
   "outputs": [
    {
     "data": {
      "text/html": [
       "<div>\n",
       "<style scoped>\n",
       "    .dataframe tbody tr th:only-of-type {\n",
       "        vertical-align: middle;\n",
       "    }\n",
       "\n",
       "    .dataframe tbody tr th {\n",
       "        vertical-align: top;\n",
       "    }\n",
       "\n",
       "    .dataframe thead th {\n",
       "        text-align: right;\n",
       "    }\n",
       "</style>\n",
       "<table border=\"1\" class=\"dataframe\">\n",
       "  <thead>\n",
       "    <tr style=\"text-align: right;\">\n",
       "      <th></th>\n",
       "      <th>作品名</th>\n",
       "      <th>テキストファイルURL</th>\n",
       "    </tr>\n",
       "  </thead>\n",
       "  <tbody>\n",
       "    <tr>\n",
       "      <td>2</td>\n",
       "      <td>スリーピー・ホローの伝説</td>\n",
       "      <td>https://www.aozora.gr.jp/cards/001257/files/46...</td>\n",
       "    </tr>\n",
       "    <tr>\n",
       "      <td>3</td>\n",
       "      <td>食品の混ぜ物処理および調理の毒物（1820）</td>\n",
       "      <td>https://www.aozora.gr.jp/cards/001657/files/54...</td>\n",
       "    </tr>\n",
       "    <tr>\n",
       "      <td>4</td>\n",
       "      <td>ファラデーの伝</td>\n",
       "      <td>https://www.aozora.gr.jp/cards/001234/files/46...</td>\n",
       "    </tr>\n",
       "    <tr>\n",
       "      <td>15</td>\n",
       "      <td>相対性理論</td>\n",
       "      <td>https://www.aozora.gr.jp/cards/001428/files/50...</td>\n",
       "    </tr>\n",
       "    <tr>\n",
       "      <td>18</td>\n",
       "      <td>良夜</td>\n",
       "      <td>https://www.aozora.gr.jp/cards/000374/files/45...</td>\n",
       "    </tr>\n",
       "    <tr>\n",
       "      <td>...</td>\n",
       "      <td>...</td>\n",
       "      <td>...</td>\n",
       "    </tr>\n",
       "    <tr>\n",
       "      <td>16573</td>\n",
       "      <td>夢</td>\n",
       "      <td>https://www.aozora.gr.jp/cards/001395/files/55...</td>\n",
       "    </tr>\n",
       "    <tr>\n",
       "      <td>16574</td>\n",
       "      <td>『劉生画集及芸術観』について</td>\n",
       "      <td>https://www.aozora.gr.jp/cards/001395/files/49...</td>\n",
       "    </tr>\n",
       "    <tr>\n",
       "      <td>16575</td>\n",
       "      <td>霊的本能主義</td>\n",
       "      <td>https://www.aozora.gr.jp/cards/001395/files/49...</td>\n",
       "    </tr>\n",
       "    <tr>\n",
       "      <td>16576</td>\n",
       "      <td>露伴先生の思い出</td>\n",
       "      <td>https://www.aozora.gr.jp/cards/001395/files/49...</td>\n",
       "    </tr>\n",
       "    <tr>\n",
       "      <td>16577</td>\n",
       "      <td>純粋経済学要論</td>\n",
       "      <td>https://www.aozora.gr.jp/cards/001185/files/45...</td>\n",
       "    </tr>\n",
       "  </tbody>\n",
       "</table>\n",
       "<p>10131 rows × 2 columns</p>\n",
       "</div>"
      ],
      "text/plain": [
       "                          作品名  \\\n",
       "2                スリーピー・ホローの伝説   \n",
       "3      食品の混ぜ物処理および調理の毒物（1820）   \n",
       "4                     ファラデーの伝   \n",
       "15                      相対性理論   \n",
       "18                         良夜   \n",
       "...                       ...   \n",
       "16573                       夢   \n",
       "16574          『劉生画集及芸術観』について   \n",
       "16575                  霊的本能主義   \n",
       "16576                露伴先生の思い出   \n",
       "16577                 純粋経済学要論   \n",
       "\n",
       "                                             テキストファイルURL  \n",
       "2      https://www.aozora.gr.jp/cards/001257/files/46...  \n",
       "3      https://www.aozora.gr.jp/cards/001657/files/54...  \n",
       "4      https://www.aozora.gr.jp/cards/001234/files/46...  \n",
       "15     https://www.aozora.gr.jp/cards/001428/files/50...  \n",
       "18     https://www.aozora.gr.jp/cards/000374/files/45...  \n",
       "...                                                  ...  \n",
       "16573  https://www.aozora.gr.jp/cards/001395/files/55...  \n",
       "16574  https://www.aozora.gr.jp/cards/001395/files/49...  \n",
       "16575  https://www.aozora.gr.jp/cards/001395/files/49...  \n",
       "16576  https://www.aozora.gr.jp/cards/001395/files/49...  \n",
       "16577  https://www.aozora.gr.jp/cards/001185/files/45...  \n",
       "\n",
       "[10131 rows x 2 columns]"
      ]
     },
     "execution_count": 15,
     "metadata": {},
     "output_type": "execute_result"
    }
   ],
   "source": [
    "out = df[df[target] == \"新字新仮名\"]\n",
    "out[[\"作品名\", \"テキストファイルURL\"]]"
   ]
  },
  {
   "cell_type": "code",
   "execution_count": null,
   "metadata": {},
   "outputs": [],
   "source": []
  }
 ],
 "metadata": {
  "kernelspec": {
   "display_name": "Python 3",
   "language": "python",
   "name": "python3"
  },
  "language_info": {
   "codemirror_mode": {
    "name": "ipython",
    "version": 3
   },
   "file_extension": ".py",
   "mimetype": "text/x-python",
   "name": "python",
   "nbconvert_exporter": "python",
   "pygments_lexer": "ipython3",
   "version": "3.7.3"
  }
 },
 "nbformat": 4,
 "nbformat_minor": 2
}
